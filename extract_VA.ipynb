{
 "cells": [
  {
   "cell_type": "code",
   "execution_count": 1,
   "metadata": {},
   "outputs": [],
   "source": [
    "# These two lines of code make your notebook aware of changes in your utils.py file without needing to restart the session each time\n",
    "%load_ext autoreload\n",
    "%autoreload 2"
   ]
  },
  {
   "cell_type": "code",
   "execution_count": 2,
   "metadata": {},
   "outputs": [],
   "source": [
    "import pandas as pd\n",
    "from tqdm import tqdm\n",
    "import utils as u\n",
    "\n",
    "# Set file paths\n",
    "AUDIOFILES_PATH = \"audio2\"\n",
    "FEATURES_FILE_PATH = 'data/features2.csv'"
   ]
  },
  {
   "cell_type": "code",
   "execution_count": 3,
   "metadata": {},
   "outputs": [
    {
     "name": "stdout",
     "output_type": "stream",
     "text": [
      "Number of audio files found: 330\n"
     ]
    }
   ],
   "source": [
    "# Search for audio files in the audiofiles directory\n",
    "audio_files = u.search_audio_files(AUDIOFILES_PATH)\n",
    "\n",
    "# Print number of audio files found\n",
    "print(f\"Number of audio files found: {len(audio_files)}\")\n",
    "\n",
    "# Initialse features.csv and clear\n",
    "open(FEATURES_FILE_PATH, 'w').close()"
   ]
  },
  {
   "cell_type": "code",
   "execution_count": 4,
   "metadata": {},
   "outputs": [],
   "source": [
    "# Initialise essentia classes \n",
    "ess = u.EssentiaClasses()\n",
    "\n",
    "def analyze_audio_files(audio_files):\n",
    "\n",
    "    pbar = tqdm(audio_files)\n",
    "    for audio_file in pbar:\n",
    "        pbar.set_description(f\"Analyzing {audio_file}\")\n",
    "\n",
    "        # Load audio file and extract features\n",
    "        audio_stereo, audio_mono = u.load_audio_file(audio_file)\n",
    "        \n",
    "        # If audio length is less than 3 seconds (sampled at 16kHz), skip the file\n",
    "        if len(audio_mono) < 48000:\n",
    "            print(f\"Audio file {audio_file} is less than 3 seconds long. Skipping...\")\n",
    "            continue\n",
    "    \n",
    "        ess.extract_features(audio_mono, audio_stereo)\n",
    "\n",
    "        # Write features to CSV file\n",
    "        features_dict = ess.write_features_dict(audio_file)\n",
    "        df_features = pd.DataFrame([features_dict])\n",
    "        df_features.to_csv(FEATURES_FILE_PATH, mode='a', header=False, index=False)\n",
    "\n",
    "    print(\"Finished analyzing all audio files\")"
   ]
  },
  {
   "cell_type": "code",
   "execution_count": 5,
   "metadata": {},
   "outputs": [
    {
     "name": "stderr",
     "output_type": "stream",
     "text": [
      "Analyzing audio2/archive/musicnet/musicnet/train_data/2241.wav: 100%|██████████| 330/330 [1:27:36<00:00, 15.93s/it]"
     ]
    },
    {
     "name": "stdout",
     "output_type": "stream",
     "text": [
      "Finished analyzing all audio files\n"
     ]
    },
    {
     "name": "stderr",
     "output_type": "stream",
     "text": [
      "\n"
     ]
    }
   ],
   "source": [
    "# Analyze audio files\n",
    "analyze_audio_files(audio_files)"
   ]
  }
 ],
 "metadata": {
  "kernelspec": {
   "display_name": "Python 3",
   "language": "python",
   "name": "python3"
  },
  "language_info": {
   "codemirror_mode": {
    "name": "ipython",
    "version": 3
   },
   "file_extension": ".py",
   "mimetype": "text/x-python",
   "name": "python",
   "nbconvert_exporter": "python",
   "pygments_lexer": "ipython3",
   "version": "3.10.12"
  }
 },
 "nbformat": 4,
 "nbformat_minor": 2
}
