{
 "cells": [
  {
   "cell_type": "code",
   "execution_count": 1,
   "metadata": {},
   "outputs": [],
   "source": [
    "# These two lines of code make your notebook aware of changes in your utils.py file without needing to restart the session each time\n",
    "%load_ext autoreload\n",
    "%autoreload 2"
   ]
  },
  {
   "cell_type": "code",
   "execution_count": 39,
   "metadata": {},
   "outputs": [],
   "source": [
    "from IPython.display import Audio, display\n",
    "import librosa as li\n",
    "import torch\n",
    "torch.set_grad_enabled(False)\n",
    "\n",
    "import numpy as np\n",
    "from sklearn.neighbors import NearestNeighbors\n",
    "from mix_utils import normalize\n",
    "import pandas as pd\n",
    "import soundfile as sf\n",
    "import pygame\n",
    "import os\n",
    "import pickle\n",
    "\n",
    "AUDIO_DIR = 'audio2/'\n",
    "MODEL_PATH = 'models/musicnet.ts'\n",
    "FEATURES_FILE_PATH = 'data/features2.csv'\n",
    "\n",
    "# Load the model\n",
    "model = torch.jit.load(MODEL_PATH).eval() "
   ]
  },
  {
   "cell_type": "code",
   "execution_count": 34,
   "metadata": {},
   "outputs": [],
   "source": [
    "# Read features file path\n",
    "df = pd.read_csv(FEATURES_FILE_PATH, header=None)\n",
    "\n",
    "# Extract the audiofile names\n",
    "names = df.iloc[:, 0].to_numpy()"
   ]
  },
  {
   "cell_type": "code",
   "execution_count": 37,
   "metadata": {},
   "outputs": [
    {
     "name": "stdout",
     "output_type": "stream",
     "text": [
      "330\n"
     ]
    }
   ],
   "source": [
    "encodings = []\n",
    "for audiofile in names:\n",
    "    x, sr = li.load(audiofile, sr = 22050)\n",
    "    # Cut audio to first 16 seconds\n",
    "    x = x[:16 * sr]\n",
    "    x_tensor = torch.from_numpy(x).reshape(1, 1, -1)\n",
    "    x_latent = model.encode(x_tensor)\n",
    "    encodings.append(x_latent)\n",
    "print(len(encodings))"
   ]
  },
  {
   "cell_type": "code",
   "execution_count": 40,
   "metadata": {},
   "outputs": [],
   "source": [
    "# Save the encodings to a pickle file\n",
    "with open('encodings.pkl', 'wb') as f:\n",
    "    pickle.dump(encodings, f)"
   ]
  }
 ],
 "metadata": {
  "kernelspec": {
   "display_name": "Python 3",
   "language": "python",
   "name": "python3"
  },
  "language_info": {
   "codemirror_mode": {
    "name": "ipython",
    "version": 3
   },
   "file_extension": ".py",
   "mimetype": "text/x-python",
   "name": "python",
   "nbconvert_exporter": "python",
   "pygments_lexer": "ipython3",
   "version": "3.10.12"
  }
 },
 "nbformat": 4,
 "nbformat_minor": 2
}
