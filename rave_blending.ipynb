{
 "cells": [
  {
   "cell_type": "code",
   "execution_count": null,
   "metadata": {
    "colab": {
     "base_uri": "https://localhost:8080/"
    },
    "id": "RD8SH7kBP-wl",
    "outputId": "3ae5cf7f-3c0c-4289-acd0-4eb9a89b3c7f"
   },
   "outputs": [],
   "source": [
    "from IPython.display import Audio, display\n",
    "import librosa as li\n",
    "import torch\n",
    "import os\n",
    "import random\n",
    "torch.set_grad_enabled(False)"
   ]
  },
  {
   "cell_type": "code",
   "execution_count": null,
   "metadata": {},
   "outputs": [],
   "source": [
    "number_files=5\n",
    "sampling_rate=44100\n",
    "cutting_length=10"
   ]
  },
  {
   "cell_type": "code",
   "execution_count": null,
   "metadata": {},
   "outputs": [],
   "source": [
    "def load_audio_files(directory, number_files):\n",
    "    all_files = os.listdir(directory)\n",
    "    wav_files = [f for f in all_files if f.endswith('.wav')]\n",
    "    random_files = random.sample(wav_files, number_files)\n",
    "    \n",
    "  \n",
    "    audio_data = []\n",
    "    for wav_file in random_files:\n",
    "        file_path = os.path.join(directory, wav_file)\n",
    "        y, sr = li.load(file_path, sr=sampling_rate)  # Load audio file\n",
    "        audio_data.append(y) \n",
    "\n",
    "    return audio_data\n"
   ]
  },
  {
   "cell_type": "code",
   "execution_count": null,
   "metadata": {},
   "outputs": [],
   "source": [
    "\n",
    "directory = 'data/musicnet/musicnet/train_data/'  \n",
    "\n",
    "audio_data = load_audio_files(directory, number_files)\n",
    "\n",
    "for audio in audio_data:\n",
    "    display(Audio(audio, rate=sampling_rate))"
   ]
  },
  {
   "cell_type": "code",
   "execution_count": null,
   "metadata": {
    "id": "nkQE2Zty7EWm"
   },
   "outputs": [],
   "source": [
    "# url = 'https://play.forum.ircam.fr/rave-vst-api/get_model/musicnet'\n",
    "#file_path = 'model.ts'\n",
    "#download_file(url, file_path)\n",
    "\n",
    "model = torch.jit.load(\"model.ts\").eval()"
   ]
  },
  {
   "cell_type": "code",
   "execution_count": null,
   "metadata": {},
   "outputs": [],
   "source": [
    "cutted_audio_data=[]\n",
    "\n",
    "for audio in audio_data:\n",
    "   cutted_audio_data.append(audio[:sampling_rate * cutting_length])\n",
    "\n",
    "for cutted_audio in cutted_audio_data:\n",
    "    display(Audio(cutted_audio, rate=sampling_rate))\n"
   ]
  },
  {
   "cell_type": "code",
   "execution_count": null,
   "metadata": {},
   "outputs": [],
   "source": []
  },
  {
   "cell_type": "code",
   "execution_count": null,
   "metadata": {
    "colab": {
     "base_uri": "https://localhost:8080/",
     "height": 72
    },
    "id": "33hOFks8R-tG",
    "outputId": "a356d8d3-5a51-4f48-e550-c62e058e8afa"
   },
   "outputs": [],
   "source": [
    "latent_data = []\n",
    "\n",
    "for cutted_audio in cutted_audio_data:\n",
    "    latent_data.append(model.encode(torch.from_numpy(cutted_audio).reshape(1,1,-1)))\n",
    "\n",
    "merged_latent=sum(latent_data)/number_files\n",
    "    \n",
    "merged_audio = model.decode(merged_latent).numpy().reshape(-1)\n",
    "\n",
    "#sf.write(\"output.wav\", merged_audio, sampling_rate)\n",
    "display(Audio(merged_audio, rate=sampling_rate))"
   ]
  }
 ],
 "metadata": {
  "colab": {
   "provenance": []
  },
  "kernelspec": {
   "display_name": "Python 3",
   "language": "python",
   "name": "python3"
  },
  "language_info": {
   "codemirror_mode": {
    "name": "ipython",
    "version": 3
   },
   "file_extension": ".py",
   "mimetype": "text/x-python",
   "name": "python",
   "nbconvert_exporter": "python",
   "pygments_lexer": "ipython3",
   "version": "3.12.3"
  }
 },
 "nbformat": 4,
 "nbformat_minor": 1
}
